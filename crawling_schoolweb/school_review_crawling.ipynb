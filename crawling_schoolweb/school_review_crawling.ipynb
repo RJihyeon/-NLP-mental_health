{
 "cells": [
  {
   "cell_type": "markdown",
   "metadata": {},
   "source": [
    "# 필요한 거 import"
   ]
  },
  {
   "cell_type": "code",
   "execution_count": 7,
   "metadata": {},
   "outputs": [],
   "source": [
    "# pip install selenium\n",
    "# pip install webdriver_manager\n",
    "import os\n",
    "import pandas as pd\n",
    "\n",
    "### 만약에 코드 안돌아가면 이 위에꺼 주석처리 해제하고 한 번 돌려주심 됩니다."
   ]
  },
  {
   "cell_type": "code",
   "execution_count": 8,
   "metadata": {},
   "outputs": [],
   "source": [
    "from selenium import webdriver\n",
    "from selenium.webdriver.common.by import By\n",
    "from selenium.webdriver.support.ui import WebDriverWait\n",
    "from selenium.webdriver.support import expected_conditions as EC\n",
    "from selenium.webdriver.chrome.service import Service\n",
    "from webdriver_manager.chrome import ChromeDriverManager\n",
    "from bs4 import BeautifulSoup\n",
    "from urllib.parse import urljoin\n",
    "import time\n",
    "import pandas as pd\n",
    "import credentials  # credentials.py 파일에서 사용자 이름과 비밀번호를 가져옴\n"
   ]
  },
  {
   "cell_type": "markdown",
   "metadata": {},
   "source": [
    "### init driver"
   ]
  },
  {
   "cell_type": "code",
   "execution_count": 9,
   "metadata": {},
   "outputs": [],
   "source": [
    "options = webdriver.ChromeOptions()\n",
    "options.add_argument('--no-sandbox')\n",
    "options.add_argument('--disable-dev-shm-usage')\n",
    "# options.add_argument('--headless') ##이거 주석처리 지우면 브라우저 안뜸 (걍 뒤에서 크롤링)\n",
    "driver = webdriver.Chrome(service=Service(ChromeDriverManager().install()), options=options)"
   ]
  },
  {
   "cell_type": "markdown",
   "metadata": {},
   "source": [
    "### login\n",
    "\n",
    "##### credentials.py 에서 자기 학번 이름 넣으면 됩니당.\n"
   ]
  },
  {
   "cell_type": "code",
   "execution_count": 10,
   "metadata": {},
   "outputs": [],
   "source": [
    "WebDriverWait(driver, 10).until(EC.presence_of_element_located((By.NAME, \"loginid\"))).send_keys(credentials.USERNAME)\n",
    "WebDriverWait(driver, 10).until(EC.presence_of_element_located((By.NAME, \"loginpw\"))).send_keys(credentials.PASSWORD)\n",
    "WebDriverWait(driver, 10).until(EC.element_to_be_clickable((By.ID, \"searchbtn\"))).click()\n",
    "time.sleep(5)"
   ]
  },
  {
   "cell_type": "markdown",
   "metadata": {},
   "source": [
    "### 학교 링크 얻는 함수 "
   ]
  },
  {
   "cell_type": "code",
   "execution_count": 11,
   "metadata": {},
   "outputs": [],
   "source": [
    "def get_school_links(driver, country_code):\n",
    "    base_url = 'https://oia.yonsei.ac.kr/partner/expReport.asp'\n",
    "    driver.get(f'{base_url}?yn=Y&country_code={country_code}&univ=')\n",
    "    time.sleep(3)\n",
    "    html = driver.page_source\n",
    "    soup = BeautifulSoup(html, 'html.parser')\n",
    "    links = [urljoin(base_url, a['href']) for a in soup.select('div.schWrap tbody td.left a')]\n",
    "    return links"
   ]
  },
  {
   "cell_type": "markdown",
   "metadata": {},
   "source": [
    "### 교환 후기 크롤링해오는 함수"
   ]
  },
  {
   "cell_type": "code",
   "execution_count": 12,
   "metadata": {},
   "outputs": [],
   "source": [
    "from selenium.common.exceptions import TimeoutException\n",
    "\n",
    "\n",
    "\n",
    "def scrape_reviews(driver, start_url, country_code, collected_review_links):\n",
    "    reviews = []\n",
    "    try:\n",
    "        driver.get(start_url)\n",
    "        WebDriverWait(driver, 10).until(EC.presence_of_element_located((By.CSS_SELECTOR, 'div.wp-pagenavi')))\n",
    "    except TimeoutException:\n",
    "        print(f\"Timeout or page not found for {start_url}\")\n",
    "        return reviews  # 해당 학교 페이지가 로드되지 않을 때 빈 리스트를 반환\n",
    "\n",
    "    current_page = 1  # 시작 페이지 번호 초기화\n",
    "\n",
    "    # 학교 이름 추출\n",
    "    school_name_html = driver.page_source\n",
    "    school_soup = BeautifulSoup(school_name_html, 'html.parser')\n",
    "    school_name = school_soup.select_one('h4.tit').text.strip() if school_soup.select_one('h4.tit') else 'Unknown School'\n",
    "\n",
    "    no_review_element = school_soup.select_one('div.no-reviews')  # 예를 들어 리뷰가 없을 때 표시되는 요소\n",
    "    if no_review_element:\n",
    "        print(f\"No reviews available for {start_url}\")\n",
    "        return reviews  # 리뷰가 없는 경우 빈 리스트 반환\n",
    "\n",
    "    while True:\n",
    "        try:\n",
    "            WebDriverWait(driver, 10).until(EC.presence_of_all_elements_located((By.CSS_SELECTOR, 'div.schWrap tbody tr')))\n",
    "            page_html = driver.page_source\n",
    "            page_soup = BeautifulSoup(page_html, 'html.parser')\n",
    "\n",
    "        except TimeoutException:\n",
    "            print(\"No review entries found on the page, moving to next school.\")\n",
    "            break  # 리뷰 목록이 로드되지 않으면 루프 탈출\n",
    "\n",
    "        # 현재 페이지 내의 리뷰 항목 처리\n",
    "        review_entries = page_soup.select('div.schWrap tbody tr')\n",
    "        for entry in review_entries:\n",
    "            review_link_tag = entry.select_one('td.left a')\n",
    "            if review_link_tag:\n",
    "                review_link = urljoin(start_url, review_link_tag['href'])\n",
    "                if review_link not in collected_review_links:\n",
    "                    collected_review_links.add(review_link)\n",
    "                    driver.get(review_link)\n",
    "                    WebDriverWait(driver, 10).until(EC.presence_of_all_elements_located((By.CSS_SELECTOR, 'div.exp_txt span')))\n",
    "                    detail_html = driver.page_source\n",
    "                    detail_soup = BeautifulSoup(detail_html, 'html.parser')\n",
    "                    review_title = detail_soup.select_one('li.title_view h4').text.strip() if detail_soup.select_one('li.title_view h4') else 'No Title'\n",
    "                    exp_txt_blocks = detail_soup.select('div.exp_txt span')\n",
    "                    review_texts = [span.text.strip().replace('\\n', ' ') for span in exp_txt_blocks]\n",
    "                    reviews.append({\n",
    "                        'Country Code': country_code,\n",
    "                        'School Name': school_name,\n",
    "                        'Review Link': review_link,\n",
    "                        'Review Title': review_title,\n",
    "                        'Review Content': \" \".join(review_texts)\n",
    "                    })\n",
    "                    driver.back()\n",
    "\n",
    "        # 다음 페이지 링크 처리\n",
    "        if current_page % 5 == 0:  # 매 5페이지마다 nextpostslink 사용\n",
    "            next_link = page_soup.select_one('a.nextpostslink')\n",
    "            if next_link and next_link['href'] != '#':\n",
    "                new_url = urljoin(start_url, next_link['href'])\n",
    "                print(f\"Moving to next page group at {new_url}\")\n",
    "                driver.get(new_url)\n",
    "                current_page += 1\n",
    "                WebDriverWait(driver, 10).until(EC.presence_of_element_located((By.CSS_SELECTOR, 'div.wp-pagenavi')))\n",
    "            else:\n",
    "                print(\"No more pages to process.\")\n",
    "                break\n",
    "        else:\n",
    "            page_links = page_soup.select('a.page.smaller')\n",
    "            next_page_found = False\n",
    "            for link in page_links:\n",
    "                if int(link.text) == current_page + 1:\n",
    "                    new_url = urljoin(start_url, link['href'])\n",
    "                    print(f\"Moving to page {link.text} at {new_url}\")\n",
    "                    driver.get(new_url)\n",
    "                    current_page += 1\n",
    "                    next_page_found = True\n",
    "                    break\n",
    "            if not next_page_found:\n",
    "                print(\"No more pages to process.\")\n",
    "                break\n",
    "\n",
    "    return reviews\n",
    "\n",
    "def scrape_schools(driver, country_code, school_links):\n",
    "    collected_review_links = set()\n",
    "    file_path = f'reviewfiles/{country_code}_exchange_student_reviews.csv'\n",
    "    \n",
    "    if os.path.exists(file_path):\n",
    "        df = pd.read_csv(file_path)\n",
    "        collected_review_links = set(df['Review Link'])\n",
    "\n",
    "    all_reviews = []\n",
    "    for link in school_links:\n",
    "        reviews = scrape_reviews(driver, link, country_code, collected_review_links)\n",
    "        if reviews:  # 리뷰가 수집된 경우에만 추가\n",
    "            all_reviews.extend(reviews)\n",
    "\n",
    "    if all_reviews:\n",
    "        df = pd.DataFrame(all_reviews)\n",
    "        df.to_csv(file_path, mode='a', index=False, header=not os.path.exists(file_path))\n",
    "        print(f\"New reviews have been appended to '{file_path}'.\")\n",
    "    else:\n",
    "        print(\"No new reviews were collected.\")\n",
    "\n",
    "    driver.quit()\n",
    "\n",
    "\n",
    "# 예시 사용법\n",
    "country_code = 'UK'\n",
    "school_links = get_school_links(driver, country_code)\n",
    "\n",
    "\n",
    "## 75번 대학부터 제대로 크롤링되기 시작 ^^^ \n",
    "# 학교 리스트를 10개씩 끊어서 크롤링\n",
    "for i in range(1, len(school_links),213):\n",
    "    scrape_schools(driver, country_code, school_links[i:i+213])\n"
   ]
  },
  {
   "cell_type": "markdown",
   "metadata": {},
   "source": [
    "### 각 함수들 실행할 메인\n",
    "\n",
    "##### ** 수정필요 : 국가 코드 수정해주셔야 됨\n",
    "###### 지금 나고 있는 에러는 무시해주시고, 위에서부터 차례차례 돌리면 에러 안나유~"
   ]
  }
 ],
 "metadata": {
  "kernelspec": {
   "display_name": "Python 3",
   "language": "python",
   "name": "python3"
  },
  "language_info": {
   "codemirror_mode": {
    "name": "ipython",
    "version": 3
   },
   "file_extension": ".py",
   "mimetype": "text/x-python",
   "name": "python",
   "nbconvert_exporter": "python",
   "pygments_lexer": "ipython3",
   "version": "3.10.2"
  }
 },
 "nbformat": 4,
 "nbformat_minor": 2
}
